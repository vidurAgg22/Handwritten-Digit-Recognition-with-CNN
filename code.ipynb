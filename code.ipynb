#importing necessary libraries
import torch
import torch.nn as nn
import torch.optim as optim
import torchvision.transforms as transforms
from torchvision.datasets import MNIST
from torch.utils.data import DataLoader
from google.colab import files
from PIL import Image
import io
from ipywidgets import FileUpload, VBox, HBox, Button, Output, Label


batch_size = 64
learning_rate = 0.001
num_epochs = 5

# loading dataset
transform = transforms.Compose([
    transforms.ToTensor(),
    transforms.Normalize((0.5,), (0.5,))
])

train_dataset = MNIST(root='./data', train=True, download=True, transform=transform)
test_dataset = MNIST(root='./data', train=False, download=True, transform=transform)

train_loader = DataLoader(dataset=train_dataset, batch_size=batch_size, shuffle=True)
test_loader = DataLoader(dataset=test_dataset, batch_size=batch_size, shuffle=False)

# making cnn model
class CNNModel(nn.Module):
    def __init__(self):
        super(CNNModel, self).__init__()
        self.conv1 = nn.Conv2d(in_channels=1, out_channels=32, kernel_size=3, padding=1)
        self.conv2 = nn.Conv2d(in_channels=32, out_channels=64, kernel_size=3, padding=1)
        self.pool = nn.MaxPool2d(kernel_size=2, stride=2)
        self.fc1 = nn.Linear(64 * 7 * 7, 128)
        self.fc2 = nn.Linear(128, 10)

    def forward(self, x):
        x = self.pool(torch.relu(self.conv1(x)))
        x = self.pool(torch.relu(self.conv2(x)))
        x = x.view(-1, 64 * 7 * 7)
        x = torch.relu(self.fc1(x))
        x = self.fc2(x)
        return x

model = CNNModel()

criterion = nn.CrossEntropyLoss()
optimizer = optim.Adam(model.parameters(), lr=learning_rate)

# training the model
for epoch in range(num_epochs):
    for i, (images, labels) in enumerate(train_loader):
        # Forward pass
        outputs = model(images)
        loss = criterion(outputs, labels)
        optimizer.zero_grad()
        loss.backward()
        optimizer.step()

# saving my model to my google drive
MODEL_PATH = '/content/drive/MyDrive/ocrcnnmodel.pth'
torch.save(model.state_dict(), MODEL_PATH)

# loading the trained model
model = CNNModel()
model.load_state_dict(torch.load(MODEL_PATH))
model.eval()

# classifying image
def classify_image(image):
    transform = transforms.Compose([
        transforms.Resize((28, 28)),
        transforms.Grayscale(),
        transforms.ToTensor(),
        transforms.Normalize((0.5,), (0.5,))
    ])
    image = transform(image)
    image = image.unsqueeze(0)  # Add batch dimension
    with torch.no_grad():
        output = model(image)
        _, predicted = torch.max(output, 1)
        return predicted.item()

# processing uploaded file
def handle_upload(change):
    output.clear_output()
    for filename, uploaded_file in uploader.value.items():
        image = Image.open(io.BytesIO(uploaded_file['content']))
        with output:
            display(image)
            predicted_label = classify_image(image)
            print('Predicted Label:', predicted_label)
    with output:
        more_images_button.disabled = False

# making widget to upload image
uploader = FileUpload(accept='.jpg,.jpeg,.png', multiple=True)
uploader.observe(handle_upload, names='value')

# creating widget to display result
output = Output()

# making predict button
predict_button = Button(description='Predict', button_style='info')

# adding option to check more images
more_images_button = Button(description='Add New Image', disabled=True)

def on_predict_button_clicked(btn):
    if uploader.value:
        handle_upload(None)

predict_button.on_click(on_predict_button_clicked)

def on_more_images_button_clicked(btn):
    uploader.value.clear()
    output.clear_output()

more_images_button.on_click(on_more_images_button_clicked)

# displaying widget
VBox([
    Label('Upload Image:'),
    uploader,
    HBox([predict_button, more_images_button]),
    output
])
